{
 "cells": [
  {
   "cell_type": "markdown",
   "id": "a35ae78a",
   "metadata": {},
   "source": [
    "Primeiro eu pegar a palavra e tirar todos os caracteres que não são úteis"
   ]
  },
  {
   "cell_type": "code",
   "execution_count": 1,
   "id": "991d6dd2",
   "metadata": {},
   "outputs": [],
   "source": [
    "punctuation_chars = [\"'\", '\"', \",\", \".\", \"!\", \":\", \";\", '#', '@']\n",
    "def strip_punctuation(word):\n",
    "    for letter in word:\n",
    "        if letter in punctuation_chars:\n",
    "            word = word.replace(letter,'')\n",
    "    return word"
   ]
  },
  {
   "cell_type": "markdown",
   "id": "97ea8d03",
   "metadata": {},
   "source": [
    "Depois vou pegar dentro do arquivo chamado 'positive_words.txt' palavras que são positivas em inglês,dados tirados do:\n",
    "          Bing Liu. \"Sentiment Analysis and Subjectivity.\" An chapter in\n",
    "          Handbook of Natural Language Processing, Second Edition,\n",
    "          (editors: N. Indurkhya and F. J. Damerau), 2010."
   ]
  },
  {
   "cell_type": "code",
   "execution_count": 2,
   "id": "94aac8a5",
   "metadata": {},
   "outputs": [],
   "source": [
    "positive_words = []\n",
    "with open(\"positive_words.txt\") as pos_f:\n",
    "    for lin in pos_f:\n",
    "        if lin[0] != ';' and lin[0] != '\\n':\n",
    "            positive_words.append(lin.strip())"
   ]
  },
  {
   "cell_type": "markdown",
   "id": "41d4d0a6",
   "metadata": {},
   "source": [
    "com a função get_pos() vou devolver a quantidade de palavras positivas ,dentro do tweet, e usando dentro dela a função strip_punctuation() para limpar os caractéres não úteis"
   ]
  },
  {
   "cell_type": "code",
   "execution_count": 3,
   "id": "be8b6f09",
   "metadata": {},
   "outputs": [],
   "source": [
    "def get_pos(strin):\n",
    "    words = strin.split()\n",
    "    occurance = 0\n",
    "    for word in words:\n",
    "        if strip_punctuation(word).lower() in positive_words:\n",
    "            occurance+=1\n",
    "    return occurance"
   ]
  },
  {
   "cell_type": "markdown",
   "id": "c96718d0",
   "metadata": {},
   "source": [
    "Vou pegar dentro do arquivo chamado 'negative_words.txt' palavras que são negativas em inglês"
   ]
  },
  {
   "cell_type": "code",
   "execution_count": 4,
   "id": "88f51bc7",
   "metadata": {},
   "outputs": [],
   "source": [
    "negative_words = []\n",
    "with open(\"negative_words.txt\") as pos_f:\n",
    "    for lin in pos_f:\n",
    "        if lin[0] != ';' and lin[0] != '\\n':\n",
    "            negative_words.append(lin.strip())"
   ]
  },
  {
   "cell_type": "markdown",
   "id": "0951a421",
   "metadata": {},
   "source": [
    "Mesma coisa que a função get_pos() só que dessa vez vou pegar as palavras negativas"
   ]
  },
  {
   "cell_type": "code",
   "execution_count": 5,
   "id": "d567dabb",
   "metadata": {},
   "outputs": [],
   "source": [
    "def get_neg(strin):\n",
    "    occurance = 0\n",
    "    words  = strin.split()\n",
    "    for word in words:\n",
    "        if strip_punctuation(word).lower() in negative_words:\n",
    "            occurance +=1\n",
    "    return occurance"
   ]
  },
  {
   "cell_type": "markdown",
   "id": "9e768d2e",
   "metadata": {},
   "source": [
    "Dentro do arquivo 'project_twitter_data.csv' há uma série de tweets, quantidade de republicação e retweets, a tarefa é coletar e criar um arquivo csv com cada um desses dados.  "
   ]
  },
  {
   "cell_type": "code",
   "execution_count": 6,
   "id": "8f05745b",
   "metadata": {},
   "outputs": [
    {
     "name": "stdout",
     "output_type": "stream",
     "text": [
      "[2, 0, 0, 0, 0, 0, 3, 2, 0, 1, 0, 0, 0, 0, 1, 0, 1, 1]\n",
      "[2, 1, 1, 2, 2, 2, 0, 0, 4, 0, 1, 2, 1, 1, 2, 3, 3, 1]\n",
      "['0', '2', '1', '0', '5', '0', '0', '0', '2', '0', '0', '0', '1', '2', '0', '6', '0', '0']\n",
      "[1, 1, 3, 6, 9, 19, 0, 0, 82, 0, 0, 47, 2, 0, 0, 4, 19, 0]\n"
     ]
    }
   ],
   "source": [
    "with open('project_twitter_data.csv','r') as file:\n",
    "    tweets = file.readlines()\n",
    "    reply = []\n",
    "    retweet = []\n",
    "    negative_worlds = []\n",
    "    positive_worlds = []\n",
    "    for tweet in tweets[1:]:\n",
    "        reply.append(tweet.split(',')[2].replace('\\n',''))\n",
    "        retweet.append(int(tweet.split(',')[1].replace('\\n','')))\n",
    "        negative_worlds.append(get_neg(tweet.split(',')[0]))\n",
    "        positive_worlds.append(get_pos(tweet.split(',')[0]))\n",
    "    print(negative_worlds)\n",
    "    print(positive_worlds)\n",
    "    print(reply)\n",
    "    print(retweet)"
   ]
  },
  {
   "cell_type": "markdown",
   "id": "2afabd7a",
   "metadata": {},
   "source": [
    "Por último cria-se um arquivo csv com o número de retweets, o número de replies,Pontos positivos, pontos negativos e uma pontuação verificando se é positiva ou não (pontos positivos -  pontos negativos)"
   ]
  },
  {
   "cell_type": "code",
   "execution_count": 7,
   "id": "97f722b7",
   "metadata": {},
   "outputs": [],
   "source": [
    "with open('resulting_data.csv','w') as file:\n",
    "    file.write('Number of Retweets, Number of Replies, Positive Score, Negative Score, Net Score\\n')\n",
    "    i = 0\n",
    "    while i < len(reply):\n",
    "        file.write(str(retweet[i])+','+reply[i]+','+str(positive_worlds[i])+','+str(negative_worlds[i])+','+str(positive_worlds[i]-negative_worlds[i])+'\\n')\n",
    "        i+=1"
   ]
  },
  {
   "cell_type": "code",
   "execution_count": 10,
   "id": "3ff3f80d",
   "metadata": {},
   "outputs": [],
   "source": [
    "import matplotlib.pyplot as plt"
   ]
  },
  {
   "cell_type": "code",
   "execution_count": 13,
   "id": "7b28af00",
   "metadata": {},
   "outputs": [],
   "source": [
    "net_Score = [i-j for i,j in zip(positive_worlds,negative_worlds)]"
   ]
  },
  {
   "cell_type": "markdown",
   "id": "c8d1a49a",
   "metadata": {},
   "source": [
    "Importei o matplotlib para plotar os resultados em um grafico de pontos"
   ]
  },
  {
   "cell_type": "code",
   "execution_count": 19,
   "id": "eea7a1a3",
   "metadata": {},
   "outputs": [
    {
     "data": {
      "text/plain": [
       "Text(0, 0.5, 'Número de Retweets')"
      ]
     },
     "execution_count": 19,
     "metadata": {},
     "output_type": "execute_result"
    },
    {
     "data": {
      "image/png": "[encoded data removed]",
      "text/plain": [
       "<Figure size 432x288 with 1 Axes>"
      ]
     },
     "metadata": {
      "needs_background": "light"
     },
     "output_type": "display_data"
    }
   ],
   "source": [
    "plt.scatter(net_Score,retweet)\n",
    "plt.title('Resultado da analise dos sentimentos')\n",
    "plt.xlabel('Resultado de palavras positivas menos negativas')\n",
    "plt.ylabel('Número de Retweets')"
   ]
  },
  {
   "cell_type": "code",
   "execution_count": null,
   "id": "5ff3b326",
   "metadata": {},
   "outputs": [],
   "source": []
  }
 ],
 "metadata": {
  "kernelspec": {
   "display_name": "Python 3 (ipykernel)",
   "language": "python",
   "name": "python3"
  },
  "language_info": {
   "codemirror_mode": {
    "name": "ipython",
    "version": 3
   },
   "file_extension": ".py",
   "mimetype": "text/x-python",
   "name": "python",
   "nbconvert_exporter": "python",
   "pygments_lexer": "ipython3",
   "version": "3.9.12"
  }
 },
 "nbformat": 4,
 "nbformat_minor": 5
}
